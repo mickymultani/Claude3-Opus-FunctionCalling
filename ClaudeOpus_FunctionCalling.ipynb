{
  "nbformat": 4,
  "nbformat_minor": 0,
  "metadata": {
    "colab": {
      "provenance": [],
      "authorship_tag": "ABX9TyNSggNmtBQM0P/df11Dus5/"
    },
    "kernelspec": {
      "name": "python3",
      "display_name": "Python 3"
    },
    "language_info": {
      "name": "python"
    }
  },
  "cells": [
    {
      "cell_type": "code",
      "execution_count": 166,
      "metadata": {
        "id": "1k-S55_evsXe",
        "colab": {
          "base_uri": "https://localhost:8080/"
        },
        "outputId": "e0819297-7330-4e7f-b114-11dd2dccddc2"
      },
      "outputs": [
        {
          "output_type": "stream",
          "name": "stdout",
          "text": [
            "Requirement already satisfied: anthropic in /usr/local/lib/python3.10/dist-packages (0.18.1)\n",
            "Requirement already satisfied: rich in /usr/local/lib/python3.10/dist-packages (13.7.1)\n",
            "Requirement already satisfied: pytz in /usr/local/lib/python3.10/dist-packages (2023.4)\n",
            "Requirement already satisfied: anyio<5,>=3.5.0 in /usr/local/lib/python3.10/dist-packages (from anthropic) (3.7.1)\n",
            "Requirement already satisfied: distro<2,>=1.7.0 in /usr/lib/python3/dist-packages (from anthropic) (1.7.0)\n",
            "Requirement already satisfied: httpx<1,>=0.23.0 in /usr/local/lib/python3.10/dist-packages (from anthropic) (0.27.0)\n",
            "Requirement already satisfied: pydantic<3,>=1.9.0 in /usr/local/lib/python3.10/dist-packages (from anthropic) (2.6.3)\n",
            "Requirement already satisfied: sniffio in /usr/local/lib/python3.10/dist-packages (from anthropic) (1.3.1)\n",
            "Requirement already satisfied: tokenizers>=0.13.0 in /usr/local/lib/python3.10/dist-packages (from anthropic) (0.15.2)\n",
            "Requirement already satisfied: typing-extensions<5,>=4.7 in /usr/local/lib/python3.10/dist-packages (from anthropic) (4.10.0)\n",
            "Requirement already satisfied: markdown-it-py>=2.2.0 in /usr/local/lib/python3.10/dist-packages (from rich) (3.0.0)\n",
            "Requirement already satisfied: pygments<3.0.0,>=2.13.0 in /usr/local/lib/python3.10/dist-packages (from rich) (2.16.1)\n",
            "Requirement already satisfied: idna>=2.8 in /usr/local/lib/python3.10/dist-packages (from anyio<5,>=3.5.0->anthropic) (3.6)\n",
            "Requirement already satisfied: exceptiongroup in /usr/local/lib/python3.10/dist-packages (from anyio<5,>=3.5.0->anthropic) (1.2.0)\n",
            "Requirement already satisfied: certifi in /usr/local/lib/python3.10/dist-packages (from httpx<1,>=0.23.0->anthropic) (2024.2.2)\n",
            "Requirement already satisfied: httpcore==1.* in /usr/local/lib/python3.10/dist-packages (from httpx<1,>=0.23.0->anthropic) (1.0.4)\n",
            "Requirement already satisfied: h11<0.15,>=0.13 in /usr/local/lib/python3.10/dist-packages (from httpcore==1.*->httpx<1,>=0.23.0->anthropic) (0.14.0)\n",
            "Requirement already satisfied: mdurl~=0.1 in /usr/local/lib/python3.10/dist-packages (from markdown-it-py>=2.2.0->rich) (0.1.2)\n",
            "Requirement already satisfied: annotated-types>=0.4.0 in /usr/local/lib/python3.10/dist-packages (from pydantic<3,>=1.9.0->anthropic) (0.6.0)\n",
            "Requirement already satisfied: pydantic-core==2.16.3 in /usr/local/lib/python3.10/dist-packages (from pydantic<3,>=1.9.0->anthropic) (2.16.3)\n",
            "Requirement already satisfied: huggingface_hub<1.0,>=0.16.4 in /usr/local/lib/python3.10/dist-packages (from tokenizers>=0.13.0->anthropic) (0.20.3)\n",
            "Requirement already satisfied: filelock in /usr/local/lib/python3.10/dist-packages (from huggingface_hub<1.0,>=0.16.4->tokenizers>=0.13.0->anthropic) (3.13.1)\n",
            "Requirement already satisfied: fsspec>=2023.5.0 in /usr/local/lib/python3.10/dist-packages (from huggingface_hub<1.0,>=0.16.4->tokenizers>=0.13.0->anthropic) (2023.6.0)\n",
            "Requirement already satisfied: requests in /usr/local/lib/python3.10/dist-packages (from huggingface_hub<1.0,>=0.16.4->tokenizers>=0.13.0->anthropic) (2.31.0)\n",
            "Requirement already satisfied: tqdm>=4.42.1 in /usr/local/lib/python3.10/dist-packages (from huggingface_hub<1.0,>=0.16.4->tokenizers>=0.13.0->anthropic) (4.66.2)\n",
            "Requirement already satisfied: pyyaml>=5.1 in /usr/local/lib/python3.10/dist-packages (from huggingface_hub<1.0,>=0.16.4->tokenizers>=0.13.0->anthropic) (6.0.1)\n",
            "Requirement already satisfied: packaging>=20.9 in /usr/local/lib/python3.10/dist-packages (from huggingface_hub<1.0,>=0.16.4->tokenizers>=0.13.0->anthropic) (23.2)\n",
            "Requirement already satisfied: charset-normalizer<4,>=2 in /usr/local/lib/python3.10/dist-packages (from requests->huggingface_hub<1.0,>=0.16.4->tokenizers>=0.13.0->anthropic) (3.3.2)\n",
            "Requirement already satisfied: urllib3<3,>=1.21.1 in /usr/local/lib/python3.10/dist-packages (from requests->huggingface_hub<1.0,>=0.16.4->tokenizers>=0.13.0->anthropic) (2.0.7)\n"
          ]
        }
      ],
      "source": [
        "!pip install anthropic rich pytz"
      ]
    },
    {
      "cell_type": "code",
      "source": [
        "from anthropic import Anthropic\n",
        "from rich import print\n",
        "from datetime import datetime, timezone, timedelta\n",
        "import re, json, os, requests, pytz"
      ],
      "metadata": {
        "id": "BYHW9Bq1wDrp"
      },
      "execution_count": 167,
      "outputs": []
    },
    {
      "cell_type": "code",
      "source": [
        "os.environ[\"ANTHROPIC_API_KEY\"] = \"your_api_key\""
      ],
      "metadata": {
        "id": "R7dWBMt5zHCf"
      },
      "execution_count": 168,
      "outputs": []
    },
    {
      "cell_type": "code",
      "source": [
        "client = Anthropic()\n",
        "MODEL_NAME = \"claude-3-opus-20240229\"\n",
        "\n",
        "road_condition_message = {\n",
        "    \"role\": \"user\",\n",
        "    \"content\": \"What are the current road conditions from Hwy 16 to Maligne Canyon\"\n",
        "}"
      ],
      "metadata": {
        "id": "GY1TvwD6RSSt"
      },
      "execution_count": 169,
      "outputs": []
    },
    {
      "cell_type": "code",
      "source": [
        "message = client.messages.create(\n",
        "    model=MODEL_NAME,\n",
        "    max_tokens=1024,\n",
        "    messages=[road_condition_message]\n",
        ").content[0].text"
      ],
      "metadata": {
        "id": "CGPv2AwxwKpO"
      },
      "execution_count": 170,
      "outputs": []
    },
    {
      "cell_type": "code",
      "source": [
        "print(\"##### Response w/o Function Calling #####\\n\\n\" + message)"
      ],
      "metadata": {
        "id": "_NtVaXJkCIdR",
        "colab": {
          "base_uri": "https://localhost:8080/",
          "height": 374
        },
        "outputId": "f5d03645-3e57-423f-9c1d-a31c2cb4e150"
      },
      "execution_count": 171,
      "outputs": [
        {
          "output_type": "display_data",
          "data": {
            "text/plain": [
              "##### Response w/o Function Calling #####\n",
              "\n",
              "I apologize for the confusion, but I am not able to provide real-time road conditions as I am a language model AI \n",
              "and do not have access to live data. Road conditions can change rapidly based on weather, maintenance, and other \n",
              "factors.\n",
              "\n",
              "For the most accurate and up-to-date information on road conditions from Highway \u001b[1;36m16\u001b[0m to Maligne Canyon, I recommend \n",
              "checking the following resources:\n",
              "\n",
              "\u001b[1;36m1\u001b[0m. Alberta \u001b[1;36m511\u001b[0m \u001b[1m(\u001b[0m\u001b[4;94mhttps://511.alberta.ca/\u001b[0m\u001b[4;94m)\u001b[0m\u001b[4;94m:\u001b[0m This official Alberta government website provides current road \n",
              "conditions, road reports, and interactive maps.\n",
              "\n",
              "\u001b[1;36m2\u001b[0m. Parks Canada - Jasper National Park \u001b[1m(\u001b[0m\u001b[4;94mhttps://www.pc.gc.ca/en/pn-np/ab/jasper\u001b[0m\u001b[4;94m)\u001b[0m\u001b[4;94m:\u001b[0m The official website for Jasper \n",
              "National Park offers information on road conditions and closures within the park, including the route to Maligne \n",
              "Canyon.\n",
              "\n",
              "\u001b[1;36m3\u001b[0m. Local news and weather reports: Local media outlets often provide updates on road conditions, especially during \n",
              "inclement weather or emergencies.\n",
              "\n",
              "Always exercise caution and adjust your driving based on the current conditions. If you are unsure about the safety\n",
              "of driving, it is best to delay your trip until conditions improve.\n"
            ],
            "text/html": [
              "<pre style=\"white-space:pre;overflow-x:auto;line-height:normal;font-family:Menlo,'DejaVu Sans Mono',consolas,'Courier New',monospace\">##### Response w/o Function Calling #####\n",
              "\n",
              "I apologize for the confusion, but I am not able to provide real-time road conditions as I am a language model AI \n",
              "and do not have access to live data. Road conditions can change rapidly based on weather, maintenance, and other \n",
              "factors.\n",
              "\n",
              "For the most accurate and up-to-date information on road conditions from Highway <span style=\"color: #008080; text-decoration-color: #008080; font-weight: bold\">16</span> to Maligne Canyon, I recommend \n",
              "checking the following resources:\n",
              "\n",
              "<span style=\"color: #008080; text-decoration-color: #008080; font-weight: bold\">1</span>. Alberta <span style=\"color: #008080; text-decoration-color: #008080; font-weight: bold\">511</span> <span style=\"font-weight: bold\">(</span><span style=\"color: #0000ff; text-decoration-color: #0000ff; text-decoration: underline\">https://511.alberta.ca/):</span> This official Alberta government website provides current road \n",
              "conditions, road reports, and interactive maps.\n",
              "\n",
              "<span style=\"color: #008080; text-decoration-color: #008080; font-weight: bold\">2</span>. Parks Canada - Jasper National Park <span style=\"font-weight: bold\">(</span><span style=\"color: #0000ff; text-decoration-color: #0000ff; text-decoration: underline\">https://www.pc.gc.ca/en/pn-np/ab/jasper):</span> The official website for Jasper \n",
              "National Park offers information on road conditions and closures within the park, including the route to Maligne \n",
              "Canyon.\n",
              "\n",
              "<span style=\"color: #008080; text-decoration-color: #008080; font-weight: bold\">3</span>. Local news and weather reports: Local media outlets often provide updates on road conditions, especially during \n",
              "inclement weather or emergencies.\n",
              "\n",
              "Always exercise caution and adjust your driving based on the current conditions. If you are unsure about the safety\n",
              "of driving, it is best to delay your trip until conditions improve.\n",
              "</pre>\n"
            ]
          },
          "metadata": {}
        }
      ]
    },
    {
      "cell_type": "code",
      "source": [
        "def get_road_details(location_description):\n",
        "    url = 'https://511.alberta.ca/api/v2/get/winterroads'\n",
        "    response = requests.get(url)\n",
        "    road_details = {}\n",
        "\n",
        "    if response.status_code == 200:\n",
        "        road_conditions = response.json()\n",
        "\n",
        "        # Find the road condition entry that matches the given LocationDescription\n",
        "        for road in road_conditions:\n",
        "            if road['LocationDescription'] == location_description:\n",
        "                # Convert Unix timestamp to datetime object in UTC\n",
        "                last_updated_utc = datetime.fromtimestamp(int(road.get('LastUpdated', 0)), tz=timezone.utc)\n",
        "\n",
        "                # Convert UTC datetime to Mountain Time\n",
        "                mountain_time = pytz.timezone('America/Denver')\n",
        "                last_updated_mountain = last_updated_utc.astimezone(mountain_time)\n",
        "\n",
        "                # Format datetime object to a human-readable string\n",
        "                last_updated_str = last_updated_mountain.strftime('%Y-%m-%d %H:%M:%S %Z')\n",
        "\n",
        "                road_details = {\n",
        "                    \"Primary Condition\": road.get('Primary Condition', 'N/A'),\n",
        "                    \"Secondary Conditions\": road.get('Secondary Conditions', 'N/A'),\n",
        "                    \"Visibility\": road.get('Visibility ', 'N/A'),\n",
        "                    \"Roadway Name\": road.get('RoadwayName', 'N/A'),\n",
        "                    \"AreaName\": road.get('AreaName', 'N/A'),\n",
        "                    \"Last Updated\": last_updated_str\n",
        "                }\n",
        "                break  # Exit the loop once the matching road is found\n",
        "    else:\n",
        "        print(\"Failed to retrieve road conditions\")\n",
        "\n",
        "    return road_details"
      ],
      "metadata": {
        "id": "2kZff_MAGhOE"
      },
      "execution_count": 172,
      "outputs": []
    },
    {
      "cell_type": "code",
      "source": [
        "tool_description = \"\"\"\n",
        "<tool_description>\n",
        "    <tool_name>get_road_details</tool_name>\n",
        "    <description>\n",
        "        Function for finding the current winter road conditions in Alberta.\n",
        "    <parameters>\n",
        "        <parameter>\n",
        "            <name>location_description</name>\n",
        "            <type>str</type>\n",
        "            <description>LocationDescription of the road in Alberta</description>\n",
        "        </parameter>\n",
        "    </parameters>\n",
        "</tool_description>\n",
        "\"\"\""
      ],
      "metadata": {
        "id": "oSZGD6O40VZ6"
      },
      "execution_count": 173,
      "outputs": []
    },
    {
      "cell_type": "code",
      "source": [
        "system_prompt = f\"\"\"\n",
        "In this environment you have access to a set of tools you can use to answer the\n",
        "user's question.\n",
        "\n",
        "You may call them like this:\n",
        "<function_calls>\n",
        "    <invoke>\n",
        "        <tool_name>$TOOL_NAME</tool_name>\n",
        "        <parameters>\n",
        "            <$PARAMETER_NAME>$PARAMETER_VALUE</$PARAMETER_NAME>\n",
        "            ...\n",
        "        </parameters>\n",
        "    </invoke>\n",
        "</function_calls>\n",
        "\n",
        "Here are the tools available:\n",
        "<tools>{tool_description}</tools>\n",
        "\"\"\""
      ],
      "metadata": {
        "id": "sABOtogK0Yl-"
      },
      "execution_count": 174,
      "outputs": []
    },
    {
      "cell_type": "code",
      "source": [
        "function_calling_message = client.messages.create(\n",
        "    model=MODEL_NAME,\n",
        "    max_tokens=1024,\n",
        "    messages=[road_condition_message],\n",
        "    system=system_prompt\n",
        ").content[0].text\n",
        "\n",
        "print(function_calling_message)"
      ],
      "metadata": {
        "id": "gC2_8t230b19",
        "colab": {
          "base_uri": "https://localhost:8080/",
          "height": 153
        },
        "outputId": "97a3eab6-f427-4ae9-ee6f-558ef9bb48e6"
      },
      "execution_count": 175,
      "outputs": [
        {
          "output_type": "display_data",
          "data": {
            "text/plain": [
              "\u001b[1m<\u001b[0m\u001b[1;95mfunction_calls\u001b[0m\u001b[39m>\u001b[0m\n",
              "\u001b[39m    <invoke>\u001b[0m\n",
              "\u001b[39m        <tool_name>get_road_details<\u001b[0m\u001b[35m/\u001b[0m\u001b[95mtool_name\u001b[0m\u001b[39m>\u001b[0m\n",
              "\u001b[39m        <parameters>\u001b[0m\n",
              "\u001b[39m            <location_description>Hwy \u001b[0m\u001b[1;36m16\u001b[0m\u001b[39m to Maligne Canyon<\u001b[0m\u001b[35m/\u001b[0m\u001b[95mlocation_description\u001b[0m\u001b[39m>\u001b[0m\n",
              "\u001b[39m        <\u001b[0m\u001b[35m/\u001b[0m\u001b[95mparameters\u001b[0m\u001b[39m>\u001b[0m\n",
              "\u001b[39m    <\u001b[0m\u001b[35m/\u001b[0m\u001b[95minvoke\u001b[0m\u001b[39m>\u001b[0m\n",
              "\u001b[39m<\u001b[0m\u001b[35m/\u001b[0m\u001b[95mfunction_calls\u001b[0m\u001b[1m>\u001b[0m\n"
            ],
            "text/html": [
              "<pre style=\"white-space:pre;overflow-x:auto;line-height:normal;font-family:Menlo,'DejaVu Sans Mono',consolas,'Courier New',monospace\"><span style=\"font-weight: bold\">&lt;</span><span style=\"color: #ff00ff; text-decoration-color: #ff00ff; font-weight: bold\">function_calls</span><span style=\"color: #000000; text-decoration-color: #000000\">&gt;</span>\n",
              "<span style=\"color: #000000; text-decoration-color: #000000\">    &lt;invoke&gt;</span>\n",
              "<span style=\"color: #000000; text-decoration-color: #000000\">        &lt;tool_name&gt;get_road_details&lt;</span><span style=\"color: #800080; text-decoration-color: #800080\">/</span><span style=\"color: #ff00ff; text-decoration-color: #ff00ff\">tool_name</span><span style=\"color: #000000; text-decoration-color: #000000\">&gt;</span>\n",
              "<span style=\"color: #000000; text-decoration-color: #000000\">        &lt;parameters&gt;</span>\n",
              "<span style=\"color: #000000; text-decoration-color: #000000\">            &lt;location_description&gt;Hwy </span><span style=\"color: #008080; text-decoration-color: #008080; font-weight: bold\">16</span><span style=\"color: #000000; text-decoration-color: #000000\"> to Maligne Canyon&lt;</span><span style=\"color: #800080; text-decoration-color: #800080\">/</span><span style=\"color: #ff00ff; text-decoration-color: #ff00ff\">location_description</span><span style=\"color: #000000; text-decoration-color: #000000\">&gt;</span>\n",
              "<span style=\"color: #000000; text-decoration-color: #000000\">        &lt;</span><span style=\"color: #800080; text-decoration-color: #800080\">/</span><span style=\"color: #ff00ff; text-decoration-color: #ff00ff\">parameters</span><span style=\"color: #000000; text-decoration-color: #000000\">&gt;</span>\n",
              "<span style=\"color: #000000; text-decoration-color: #000000\">    &lt;</span><span style=\"color: #800080; text-decoration-color: #800080\">/</span><span style=\"color: #ff00ff; text-decoration-color: #ff00ff\">invoke</span><span style=\"color: #000000; text-decoration-color: #000000\">&gt;</span>\n",
              "<span style=\"color: #000000; text-decoration-color: #000000\">&lt;</span><span style=\"color: #800080; text-decoration-color: #800080\">/</span><span style=\"color: #ff00ff; text-decoration-color: #ff00ff\">function_calls</span><span style=\"font-weight: bold\">&gt;</span>\n",
              "</pre>\n"
            ]
          },
          "metadata": {}
        }
      ]
    },
    {
      "cell_type": "code",
      "source": [
        "def extract_between_tags(tag, string, strip=False):\n",
        "    ext_list = re.findall(f\"<{tag}>(.+?)</{tag}>\", string, re.DOTALL)\n",
        "    return [e.strip() for e in ext_list] if strip else ext_list\n",
        "\n",
        "function_params = {\"location_description\": extract_between_tags(\"location_description\", function_calling_message)[0]}\n",
        "function_name = extract_between_tags(\"tool_name\", function_calling_message)[0]\n",
        "names_to_functions = {\n",
        "    'get_road_details': get_road_details,\n",
        "}\n",
        "roadcond = names_to_functions[function_name](**function_params)\n",
        "\n",
        "# Construct function results\n",
        "function_results = f\"\"\"\n",
        "<function_results>\n",
        "  <result>\n",
        "    <tool_name>get_road_details</tool_name>\n",
        "    <stdout>{roadcond}</stdout>\n",
        "  </result>\n",
        "</function_results>\"\"\""
      ],
      "metadata": {
        "id": "SWq97aduBwOM"
      },
      "execution_count": 176,
      "outputs": []
    },
    {
      "cell_type": "code",
      "source": [
        "partial_assistant_message = function_calling_message + function_results\n",
        "\n",
        "final_message = client.messages.create(\n",
        "    model=MODEL_NAME,\n",
        "    max_tokens=1024,\n",
        "    messages=[\n",
        "        road_condition_message,\n",
        "        {\n",
        "            \"role\": \"assistant\",\n",
        "            \"content\": partial_assistant_message\n",
        "        }\n",
        "    ],\n",
        "    system=system_prompt\n",
        ").content[0].text"
      ],
      "metadata": {
        "id": "ov2G1tYmMTkN"
      },
      "execution_count": 177,
      "outputs": []
    },
    {
      "cell_type": "code",
      "source": [
        "print(\"\\n\\n##### Response With Function Calling #####\"+ final_message)"
      ],
      "metadata": {
        "colab": {
          "base_uri": "https://localhost:8080/",
          "height": 136
        },
        "id": "prpzonMcP2hq",
        "outputId": "9743e867-5993-4a86-dc2c-615199df6142"
      },
      "execution_count": 178,
      "outputs": [
        {
          "output_type": "display_data",
          "data": {
            "text/plain": [
              "\n",
              "\n",
              "##### Response With Function Calling #####\n",
              "\n",
              "According to the current road conditions report, the primary condition on the road from Highway \u001b[1;36m16\u001b[0m to Maligne \n",
              "Canyon is covered ice. Secondary conditions include shoulder ice/snow and packed snow and ice on the roadway. The \n",
              "visibility is not reported. This information is for the road named Maligne Road in the Jasper area, and was last \n",
              "updated on March \u001b[1;36m4\u001b[0m, \u001b[1;36m2024\u001b[0m at \u001b[1;92m10:44\u001b[0m AM MST.\n"
            ],
            "text/html": [
              "<pre style=\"white-space:pre;overflow-x:auto;line-height:normal;font-family:Menlo,'DejaVu Sans Mono',consolas,'Courier New',monospace\">\n",
              "\n",
              "##### Response With Function Calling #####\n",
              "\n",
              "According to the current road conditions report, the primary condition on the road from Highway <span style=\"color: #008080; text-decoration-color: #008080; font-weight: bold\">16</span> to Maligne \n",
              "Canyon is covered ice. Secondary conditions include shoulder ice/snow and packed snow and ice on the roadway. The \n",
              "visibility is not reported. This information is for the road named Maligne Road in the Jasper area, and was last \n",
              "updated on March <span style=\"color: #008080; text-decoration-color: #008080; font-weight: bold\">4</span>, <span style=\"color: #008080; text-decoration-color: #008080; font-weight: bold\">2024</span> at <span style=\"color: #00ff00; text-decoration-color: #00ff00; font-weight: bold\">10:44</span> AM MST.\n",
              "</pre>\n"
            ]
          },
          "metadata": {}
        }
      ]
    }
  ]
}